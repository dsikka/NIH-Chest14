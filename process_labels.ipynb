{
 "cells": [
  {
   "cell_type": "code",
   "execution_count": 1,
   "metadata": {
    "colab": {},
    "colab_type": "code",
    "id": "4khDzMM6uC7_"
   },
   "outputs": [],
   "source": [
    "import pandas as pd\n",
    "import numpy as np\n",
    "from itertools import chain\n",
    "import matplotlib.pyplot as plt\n",
    "import os\n",
    "import shutil"
   ]
  },
  {
   "cell_type": "markdown",
   "metadata": {},
   "source": [
    "## Number of data samples and classes (multi-class, multi-label)"
   ]
  },
  {
   "cell_type": "code",
   "execution_count": null,
   "metadata": {},
   "outputs": [],
   "source": [
    "import zipfile\n",
    "with zipfile.ZipFile('./data/data.zip', 'r') as zip_ref:\n",
    "    zip_ref.extractall('./data')"
   ]
  },
  {
   "cell_type": "code",
   "execution_count": null,
   "metadata": {
    "colab": {
     "base_uri": "https://localhost:8080/",
     "height": 218
    },
    "colab_type": "code",
    "id": "JOsqOW-Ku99B",
    "outputId": "7ebb404e-6647-4a85-937a-c998cacd2fde"
   },
   "outputs": [],
   "source": [
    "# Path to csv containing data labels\n",
    "path_to_csv = './data/Data_Entry_2017.csv'\n",
    "df = pd.read_csv(path_to_csv)\n",
    "\n",
    "# Print the labels data\n",
    "df['Finding Labels']"
   ]
  },
  {
   "cell_type": "code",
   "execution_count": null,
   "metadata": {
    "colab": {
     "base_uri": "https://localhost:8080/",
     "height": 252
    },
    "colab_type": "code",
    "id": "Vat650HQv-al",
    "outputId": "293e0d05-47cc-4975-94a0-3f8f592dcc80"
   },
   "outputs": [],
   "source": [
    "# Process data as some of the images have multiple labels\n",
    "# Separate the labels to the unique classes\n",
    "classes_split = pd.DataFrame({'Finding Labels': chain.from_iterable(df['Finding Labels'].str.split('|'))})\n",
    "labels = classes_split['Finding Labels'].unique()\n",
    "labels"
   ]
  },
  {
   "cell_type": "markdown",
   "metadata": {},
   "source": [
    "## Visualize the data and class distribution"
   ]
  },
  {
   "cell_type": "code",
   "execution_count": null,
   "metadata": {
    "colab": {},
    "colab_type": "code",
    "id": "xmzRqekZMiDR"
   },
   "outputs": [],
   "source": [
    "# Encoding dataframe\n",
    "encoded_df = pd.DataFrame(columns=labels)\n",
    "encoded_df.insert(0, 'Image Index', df['Image Index'])\n",
    "for col in encoded_df.columns:\n",
    "    if col != 'Image Index':\n",
    "        encoded_df[col] = 0\n",
    "\n",
    "for i, row in df.iterrows():\n",
    "    values = row['Finding Labels'].split('|')\n",
    "    for val in values:\n",
    "        encoded_df.iloc[i, encoded_df.columns.get_loc(val)] = 1 "
   ]
  },
  {
   "cell_type": "code",
   "execution_count": null,
   "metadata": {
    "colab": {},
    "colab_type": "code",
    "id": "mCNeJZUpbCUF"
   },
   "outputs": [],
   "source": [
    "# Dataframe, encoded for multi-label classification\n",
    "encoded_df.to_csv('./data/Labels/Encoded_Multilabels.csv', index=False)"
   ]
  },
  {
   "cell_type": "code",
   "execution_count": null,
   "metadata": {
    "colab": {
     "base_uri": "https://localhost:8080/",
     "height": 576
    },
    "colab_type": "code",
    "id": "ZbBm_hNwoLqA",
    "outputId": "2cfdffc3-5f4f-4ee9-87b3-b1c31a406926"
   },
   "outputs": [],
   "source": [
    "samples = {}\n",
    "for col in encoded_df.columns:\n",
    "    if col != 'Image Index':\n",
    "        tot = encoded_df[col].sum()\n",
    "        samples[col] = tot\n",
    "        print(col, end=\" \") \n",
    "        print(tot)\n",
    "\n",
    "# Current split of data between the different classes\n",
    "plt.figure(figsize=(25,5))\n",
    "plt.bar(range(len(samples)), list(samples.values()), align='center')\n",
    "plt.xticks(range(len(samples)), list(samples.keys()))\n",
    "plt.show()"
   ]
  },
  {
   "cell_type": "code",
   "execution_count": null,
   "metadata": {
    "colab": {
     "base_uri": "https://localhost:8080/",
     "height": 422
    },
    "colab_type": "code",
    "id": "FfiGILEfrslY",
    "outputId": "4b5340d1-b44a-4607-d374-c114239a3494"
   },
   "outputs": [],
   "source": [
    "encoded_df"
   ]
  },
  {
   "cell_type": "markdown",
   "metadata": {},
   "source": [
    "## Organize the data into Train, Test, and Validation Folders"
   ]
  },
  {
   "cell_type": "code",
   "execution_count": null,
   "metadata": {},
   "outputs": [],
   "source": [
    "# Organize the data into training and testing folders given the list of files\n",
    "train_list = './data/train_val_list.txt'\n",
    "test_list = './data/test_list.txt'\n",
    "\n",
    "train = [line.rstrip() for line in open(train_list)]\n",
    "test = [line.rstrip() for line in open(test_list)]"
   ]
  },
  {
   "cell_type": "code",
   "execution_count": null,
   "metadata": {},
   "outputs": [],
   "source": [
    "path_to_images = './data/images'\n",
    "paths = os.listdir(path_to_images)\n",
    "for folder in paths:\n",
    "    folder_path = os.path.join(path_to_images, folder + '/images')\n",
    "    images = os.listdir(folder_path)\n",
    "    for img in images:\n",
    "        if img in train:\n",
    "            shutil.move(os.path.join(folder_path, img), './data/Train')\n",
    "        else:\n",
    "            shutil.move(os.path.join(folder_path, img), './data/Test')"
   ]
  },
  {
   "cell_type": "code",
   "execution_count": null,
   "metadata": {},
   "outputs": [],
   "source": [
    "# Further split the training data into validation and training sets, using a 80/20 split \n",
    "encoded_df = encoded_df[encoded_df['No Finding'] == 0]\n",
    "encoded_df = encoded_df.drop(columns='No Finding')\n",
    "\n",
    "test_label_df = encoded_df[encoded_df['Image Index'].isin(test)]\n",
    "train_val_label_df = encoded_df[encoded_df['Image Index'].isin(train)]\n",
    "\n",
    "msk = np.random.rand(len(train_val_label_df)) < 0.90\n",
    "train_label_df = train_val_label_df[msk]\n",
    "val_label_df = train_val_label_df[~msk]"
   ]
  },
  {
   "cell_type": "code",
   "execution_count": null,
   "metadata": {},
   "outputs": [],
   "source": [
    "# Save the dataframes\n",
    "test_label_df.to_csv('./data/Labels/Test_Labels.csv', index=False)\n",
    "train_label_df.to_csv('./data/Labels/Train_Labels.csv', index=False)\n",
    "val_label_df.to_csv('./data/Labels/Val_Labels.csv', index=False)"
   ]
  },
  {
   "cell_type": "code",
   "execution_count": null,
   "metadata": {},
   "outputs": [],
   "source": [
    "# Move files\n",
    "val = list(val_label_df['Image Index'])\n",
    "path = os.listdir('./data/Train')\n",
    "for img in path:\n",
    "    if img in val:\n",
    "        shutil.move(os.path.join('./data/Train', img), './data/Val')"
   ]
  },
  {
   "cell_type": "code",
   "execution_count": null,
   "metadata": {},
   "outputs": [],
   "source": [
    "msk = np.random.rand(len(test_label_df)) > 0.80\n",
    "new_test = test_label_df[msk]\n",
    "new_train = pd.concat([train_label_df, test_label_df[~msk]])\n",
    "new_test"
   ]
  },
  {
   "cell_type": "code",
   "execution_count": null,
   "metadata": {},
   "outputs": [],
   "source": [
    "# Save the dataframes\n",
    "new_test.to_csv('./data/Labels/Test_Labels.csv', index=False)\n",
    "new_train.to_csv('./data/Labels/Train_Labels.csv', index=False)\n",
    "val_label_df.to_csv('./data/Labels/Val_Labels.csv', index=False)"
   ]
  },
  {
   "cell_type": "code",
   "execution_count": null,
   "metadata": {},
   "outputs": [],
   "source": [
    "encoded_df"
   ]
  },
  {
   "cell_type": "code",
   "execution_count": null,
   "metadata": {},
   "outputs": [],
   "source": [
    "print(len(os.listdir('./data/Train')) + len(os.listdir('./data/Val')) + len(os.listdir('./data/Test')))"
   ]
  },
  {
   "cell_type": "code",
   "execution_count": null,
   "metadata": {},
   "outputs": [],
   "source": [
    "from PIL import Image, ImageStat\n",
    "mean = 0.\n",
    "std = 0.\n",
    "nb_samples = 0\n",
    "path = os.listdir('./data/Train')\n",
    "for data in path:\n",
    "    img = Image.open(os.path.join('./data/Train', data))\n",
    "    stat = ImageStat.Stat(img)\n",
    "    mean += stat.mean[0] \n",
    "    std  += stat.stddev[0]\n",
    "    nb_samples += 1\n",
    "\n",
    "mean /= nb_samples\n",
    "std /= nb_samples"
   ]
  },
  {
   "cell_type": "code",
   "execution_count": null,
   "metadata": {},
   "outputs": [],
   "source": [
    "print(f'Mean: {mean/255}')\n",
    "print(f'Std: {std/255}')"
   ]
  },
  {
   "cell_type": "code",
   "execution_count": 2,
   "metadata": {},
   "outputs": [],
   "source": [
    "train_df = pd.read_csv('./data/Labels/Train_Labels.csv')\n",
    "val_df = pd.read_csv('./data/Labels/Val_Labels.csv')\n",
    "test_df = pd.read_csv('./data/Labels/Test_Labels.csv')"
   ]
  },
  {
   "cell_type": "code",
   "execution_count": 3,
   "metadata": {},
   "outputs": [
    {
     "name": "stdout",
     "output_type": "stream",
     "text": [
      "Cardiomegaly 2415\n",
      "Emphysema 2159\n",
      "Effusion 11521\n",
      "Hernia 200\n",
      "Infiltration 17338\n",
      "Mass 5032\n",
      "Nodule 5522\n",
      "Atelectasis 10071\n",
      "Pneumothorax 4524\n",
      "Pleural_Thickening 2918\n",
      "Pneumonia 1235\n",
      "Fibrosis 1464\n",
      "Edema 1967\n",
      "Consolidation 4018\n"
     ]
    },
    {
     "data": {
      "image/png": "[encoded data removed]",
      "text/plain": [
       "<Figure size 1800x360 with 1 Axes>"
      ]
     },
     "metadata": {
      "needs_background": "light"
     },
     "output_type": "display_data"
    }
   ],
   "source": [
    "samples = {}\n",
    "for col in train_df.columns:\n",
    "    if col != 'Image Index':\n",
    "        tot = train_df[col].sum()\n",
    "        samples[col] = tot\n",
    "        print(col, end=\" \") \n",
    "        print(tot)\n",
    "\n",
    "# Current split of data between the different classes\n",
    "plt.figure(figsize=(25,5))\n",
    "plt.bar(range(len(samples)), list(samples.values()), align='center')\n",
    "plt.xticks(range(len(samples)), list(samples.keys()))\n",
    "plt.show()"
   ]
  },
  {
   "cell_type": "code",
   "execution_count": null,
   "metadata": {},
   "outputs": [],
   "source": []
  }
 ],
 "metadata": {
  "accelerator": "GPU",
  "colab": {
   "collapsed_sections": [],
   "name": "process_labels.ipynb",
   "provenance": []
  },
  "kernelspec": {
   "display_name": "Python 3",
   "language": "python",
   "name": "python3"
  },
  "language_info": {
   "codemirror_mode": {
    "name": "ipython",
    "version": 3
   },
   "file_extension": ".py",
   "mimetype": "text/x-python",
   "name": "python",
   "nbconvert_exporter": "python",
   "pygments_lexer": "ipython3",
   "version": "3.7.5"
  }
 },
 "nbformat": 4,
 "nbformat_minor": 1
}
